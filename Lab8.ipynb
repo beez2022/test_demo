{
 "cells": [
  {
   "cell_type": "code",
   "execution_count": 1,
   "id": "5726b0e7",
   "metadata": {},
   "outputs": [
    {
     "name": "stdout",
     "output_type": "stream",
     "text": [
      "['a', 'b', 'c', 'd', 'e']\n"
     ]
    }
   ],
   "source": [
    "# lists is a kind of array\n",
    "# try not to mix datatypes in your lists\n",
    "\n",
    "letters = [\"a\", \"b\", \"c\", \"d\", \"e\"]\n",
    "print(letters)"
   ]
  },
  {
   "cell_type": "code",
   "execution_count": 2,
   "id": "76c5d6e6",
   "metadata": {},
   "outputs": [
    {
     "data": {
      "text/plain": [
       "5"
      ]
     },
     "execution_count": 2,
     "metadata": {},
     "output_type": "execute_result"
    }
   ],
   "source": [
    "# get the length of the lists with len()\n",
    "\n",
    "len(letters)\n"
   ]
  },
  {
   "cell_type": "code",
   "execution_count": 3,
   "id": "029a1e8c",
   "metadata": {},
   "outputs": [
    {
     "name": "stdout",
     "output_type": "stream",
     "text": [
      "d\n"
     ]
    }
   ],
   "source": [
    "#   0    1    2    3    4\n",
    "# [\"a\", \"b\", \"c\", \"d\", \"e\"]\n",
    "# index = position of item\n",
    "print(letters[3])"
   ]
  },
  {
   "cell_type": "code",
   "execution_count": 5,
   "id": "c85d090c",
   "metadata": {},
   "outputs": [
    {
     "data": {
      "text/plain": [
       "'e'"
      ]
     },
     "execution_count": 5,
     "metadata": {},
     "output_type": "execute_result"
    }
   ],
   "source": [
    "#   0    1    2    3    4\n",
    "#   -5   -4   -3  -2   -1\n",
    "# [\"a\", \"b\", \"c\", \"d\", \"e\"]\n",
    "# index = position of item\n",
    "letters[-1]"
   ]
  },
  {
   "cell_type": "code",
   "execution_count": 6,
   "id": "6bd78a4f",
   "metadata": {},
   "outputs": [
    {
     "data": {
      "text/plain": [
       "['a', 'b', 'c', 'd', 'e', 'f']"
      ]
     },
     "execution_count": 6,
     "metadata": {},
     "output_type": "execute_result"
    }
   ],
   "source": [
    "# my_list.append(new_item) will add new_item at the end of my_list\n",
    "\n",
    "# append is a METHOD and not a function\n",
    "\n",
    "letters = [\"a\", \"b\", \"c\", \"d\", \"e\"]\n",
    "\n",
    "letters.append(\"f\")\n",
    "\n",
    "letters"
   ]
  },
  {
   "cell_type": "code",
   "execution_count": 7,
   "id": "59f61957",
   "metadata": {},
   "outputs": [
    {
     "data": {
      "text/plain": [
       "['a', 'b', 'c', 'z', 'd', 'e', 'f']"
      ]
     },
     "execution_count": 7,
     "metadata": {},
     "output_type": "execute_result"
    }
   ],
   "source": [
    "# my_list.insert(index, new_item) will insert a new item at index in my_list\n",
    "\n",
    "letters.insert(3, 'z')\n",
    "letters"
   ]
  },
  {
   "cell_type": "code",
   "execution_count": 9,
   "id": "5265a34c",
   "metadata": {},
   "outputs": [
    {
     "data": {
      "text/plain": [
       "['a', 'b', 'c']"
      ]
     },
     "execution_count": 9,
     "metadata": {},
     "output_type": "execute_result"
    }
   ],
   "source": [
    "# my_list.pop(index) will remove item at index\n",
    "# my_list.pop() will remove last item\n",
    "\n",
    "letters.pop(3)\n",
    "letters.pop()\n",
    "letters"
   ]
  },
  {
   "cell_type": "code",
   "execution_count": 10,
   "id": "fb77b77d",
   "metadata": {},
   "outputs": [
    {
     "data": {
      "text/plain": [
       "['b', 'c']"
      ]
     },
     "execution_count": 10,
     "metadata": {},
     "output_type": "execute_result"
    }
   ],
   "source": [
    "letters.remove('a')\n",
    "letters"
   ]
  },
  {
   "cell_type": "code",
   "execution_count": 11,
   "id": "73ab7513",
   "metadata": {},
   "outputs": [],
   "source": [
    "numbers = [0,1,2,3,4,5]\n",
    "\n",
    "r = range(6)  # is the same as [0,1,2,3,4,5]\n",
    "s = range(10) # is the same as [0,1,2,3,4,5,6,7,8,9]\n",
    "\n",
    "t = range(3,10) # is the same as [3,4,5,6,7,8,9]\n",
    "u = range(3, 10, 2) # is the same as [3,5,7,9] \n"
   ]
  },
  {
   "cell_type": "code",
   "execution_count": 12,
   "id": "99aea3a9",
   "metadata": {},
   "outputs": [
    {
     "name": "stdout",
     "output_type": "stream",
     "text": [
      "range(0, 11)\n"
     ]
    }
   ],
   "source": [
    "x = range(11)\n",
    "print(x)"
   ]
  },
  {
   "cell_type": "code",
   "execution_count": 13,
   "id": "e39a65af",
   "metadata": {},
   "outputs": [
    {
     "data": {
      "text/plain": [
       "[0, 1, 2, 3, 4, 5, 6, 7, 8, 9, 10]"
      ]
     },
     "execution_count": 13,
     "metadata": {},
     "output_type": "execute_result"
    }
   ],
   "source": [
    "# converts range to a list\n",
    "num_list = list(x)\n",
    "num_list"
   ]
  },
  {
   "cell_type": "code",
   "execution_count": 14,
   "id": "73a66f01",
   "metadata": {},
   "outputs": [
    {
     "data": {
      "text/plain": [
       "[0, 1, 2, 3, 4, 5, 6, 7, 8, 9, 10, [11, 12]]"
      ]
     },
     "execution_count": 14,
     "metadata": {},
     "output_type": "execute_result"
    }
   ],
   "source": [
    "num_list.append([11,12])\n",
    "num_list"
   ]
  },
  {
   "cell_type": "code",
   "execution_count": 15,
   "id": "bc22cef1",
   "metadata": {},
   "outputs": [],
   "source": [
    "num_list.remove([11,12])"
   ]
  },
  {
   "cell_type": "code",
   "execution_count": 16,
   "id": "76499066",
   "metadata": {},
   "outputs": [
    {
     "data": {
      "text/plain": [
       "[0, 1, 2, 3, 4, 5, 6, 7, 8, 9, 10]"
      ]
     },
     "execution_count": 16,
     "metadata": {},
     "output_type": "execute_result"
    }
   ],
   "source": [
    "num_list"
   ]
  },
  {
   "cell_type": "code",
   "execution_count": 17,
   "id": "60481f47",
   "metadata": {},
   "outputs": [
    {
     "data": {
      "text/plain": [
       "[0, 1, 2, 3, 4, 5, 6, 7, 8, 9, 10, 11, 12]"
      ]
     },
     "execution_count": 17,
     "metadata": {},
     "output_type": "execute_result"
    }
   ],
   "source": [
    "num_list.extend([11,12])\n",
    "num_list"
   ]
  },
  {
   "cell_type": "code",
   "execution_count": 19,
   "id": "0c3d2e29",
   "metadata": {},
   "outputs": [
    {
     "data": {
      "text/plain": [
       "[0, 1, 2, 3, 4, 5, 6, 7, 8, 9, 10, 11, 12, 13, 14, 13, 14]"
      ]
     },
     "execution_count": 19,
     "metadata": {},
     "output_type": "execute_result"
    }
   ],
   "source": [
    "num_list = num_list + [13, 14]\n"
   ]
  },
  {
   "cell_type": "code",
   "execution_count": 20,
   "id": "c9658969",
   "metadata": {},
   "outputs": [
    {
     "name": "stdout",
     "output_type": "stream",
     "text": [
      "70\n",
      "55\n"
     ]
    }
   ],
   "source": [
    "# _ is used when you want attach the value to a variable\n",
    "\n",
    "scores = [70,55,90]\n",
    "math, science, _ = scores\n",
    "print(math)\n",
    "print(science)"
   ]
  },
  {
   "cell_type": "code",
   "execution_count": 21,
   "id": "30b9e431",
   "metadata": {},
   "outputs": [
    {
     "data": {
      "text/plain": [
       "range"
      ]
     },
     "execution_count": 21,
     "metadata": {},
     "output_type": "execute_result"
    }
   ],
   "source": [
    "type(range(10))"
   ]
  },
  {
   "cell_type": "code",
   "execution_count": null,
   "id": "363e8d63",
   "metadata": {},
   "outputs": [],
   "source": []
  }
 ],
 "metadata": {
  "kernelspec": {
   "display_name": "Python 3 (ipykernel)",
   "language": "python",
   "name": "python3"
  },
  "language_info": {
   "codemirror_mode": {
    "name": "ipython",
    "version": 3
   },
   "file_extension": ".py",
   "mimetype": "text/x-python",
   "name": "python",
   "nbconvert_exporter": "python",
   "pygments_lexer": "ipython3",
   "version": "3.9.7"
  }
 },
 "nbformat": 4,
 "nbformat_minor": 5
}
