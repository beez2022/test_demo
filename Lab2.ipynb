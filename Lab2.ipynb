{
 "cells": [
  {
   "cell_type": "code",
   "execution_count": 3,
   "id": "3086e910",
   "metadata": {},
   "outputs": [
    {
     "name": "stdout",
     "output_type": "stream",
     "text": [
      "Hello World\n"
     ]
    }
   ],
   "source": [
    "# this is a comment\n",
    "print(\"Hello World\") # this is a side comment\n",
    "# print(\"Hello Python\")"
   ]
  },
  {
   "cell_type": "code",
   "execution_count": 4,
   "id": "26eb5b64",
   "metadata": {},
   "outputs": [
    {
     "name": "stdout",
     "output_type": "stream",
     "text": [
      "I love Python\n"
     ]
    }
   ],
   "source": [
    "# declare a string\n",
    "x=\"I love Python\"\n",
    "print(x)\n"
   ]
  },
  {
   "cell_type": "code",
   "execution_count": 5,
   "id": "d1c37d34",
   "metadata": {},
   "outputs": [
    {
     "data": {
      "text/plain": [
       "13"
      ]
     },
     "execution_count": 5,
     "metadata": {},
     "output_type": "execute_result"
    }
   ],
   "source": [
    "# use len() to count how long the string is\n",
    "len(x)"
   ]
  },
  {
   "cell_type": "code",
   "execution_count": 10,
   "id": "479e03cb",
   "metadata": {},
   "outputs": [],
   "source": [
    "\"I love \" + \"programming\"\n",
    "y = \"I love maths\""
   ]
  },
  {
   "cell_type": "code",
   "execution_count": 11,
   "id": "7eecfe40",
   "metadata": {},
   "outputs": [
    {
     "name": "stdout",
     "output_type": "stream",
     "text": [
      "I love maths has 12 characters\n"
     ]
    }
   ],
   "source": [
    "# use comma in print function to add space\n",
    "print(y,\"has\",len(y),\"characters\")"
   ]
  },
  {
   "cell_type": "code",
   "execution_count": 14,
   "id": "ec153fda",
   "metadata": {},
   "outputs": [
    {
     "name": "stdout",
     "output_type": "stream",
     "text": [
      "col1\tcol2\n",
      "hello\tworld\n",
      "Jackie\ttan\n"
     ]
    }
   ],
   "source": [
    "# use \\t for tab spacing\n",
    "print(\"col1\\tcol2\")\n",
    "print(\"hello\\tworld\")\n",
    "print(\"Jackie\\ttan\")"
   ]
  },
  {
   "cell_type": "code",
   "execution_count": 15,
   "id": "229c94bb",
   "metadata": {},
   "outputs": [
    {
     "name": "stdout",
     "output_type": "stream",
     "text": [
      "this\n",
      "is\n",
      "a\n",
      "newline\n"
     ]
    }
   ],
   "source": [
    "#\\n for newline\n",
    "\n",
    "print(\"this\\nis\\na\\nnewline\")"
   ]
  },
  {
   "cell_type": "code",
   "execution_count": 20,
   "id": "17d37c63",
   "metadata": {},
   "outputs": [
    {
     "name": "stdout",
     "output_type": "stream",
     "text": [
      "hello world\n"
     ]
    }
   ],
   "source": [
    "print(\"hello world\")"
   ]
  },
  {
   "cell_type": "code",
   "execution_count": 18,
   "id": "dfe46ea1",
   "metadata": {},
   "outputs": [
    {
     "name": "stdout",
     "output_type": "stream",
     "text": [
      "This string is one\n",
      "multiple\n",
      "lines\n",
      "at the same time\n"
     ]
    }
   ],
   "source": [
    "multi_line_str = \"\"\"This string is one\n",
    "multiple\n",
    "lines\n",
    "at the same time\"\"\"\n",
    "\n",
    "print(multi_line_str)"
   ]
  },
  {
   "cell_type": "code",
   "execution_count": 19,
   "id": "8a91c793",
   "metadata": {},
   "outputs": [
    {
     "name": "stdout",
     "output_type": "stream",
     "text": [
      "Once upon a time\n",
      "there was a princess\n"
     ]
    }
   ],
   "source": [
    "print(\"\"\"Once upon a time\n",
    "there was a princess\"\"\")"
   ]
  },
  {
   "cell_type": "code",
   "execution_count": 21,
   "id": "b2d5ee93",
   "metadata": {},
   "outputs": [
    {
     "name": "stdout",
     "output_type": "stream",
     "text": [
      "Hello\\nworld\n"
     ]
    }
   ],
   "source": [
    "print(\"Hello\\\\nworld\")"
   ]
  },
  {
   "cell_type": "code",
   "execution_count": null,
   "id": "d42125e3",
   "metadata": {},
   "outputs": [],
   "source": []
  }
 ],
 "metadata": {
  "kernelspec": {
   "display_name": "Python 3 (ipykernel)",
   "language": "python",
   "name": "python3"
  },
  "language_info": {
   "codemirror_mode": {
    "name": "ipython",
    "version": 3
   },
   "file_extension": ".py",
   "mimetype": "text/x-python",
   "name": "python",
   "nbconvert_exporter": "python",
   "pygments_lexer": "ipython3",
   "version": "3.9.7"
  }
 },
 "nbformat": 4,
 "nbformat_minor": 5
}
