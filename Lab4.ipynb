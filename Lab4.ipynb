{
 "cells": [
  {
   "cell_type": "code",
   "execution_count": 5,
   "id": "d1acde7b",
   "metadata": {},
   "outputs": [
    {
     "name": "stdout",
     "output_type": "stream",
     "text": [
      "this code block is executed\n"
     ]
    }
   ],
   "source": [
    "# what do I have to consider before going out\n",
    "# what I need to think about for me to bring umbrella out\n",
    "\n",
    "# control flow helps in making decisions\n",
    "\n",
    "# if statement checks if a condition is true, and then executes the code if true\n",
    "\n",
    "if True:\n",
    "    print(\"this code block is executed\")\n"
   ]
  },
  {
   "cell_type": "code",
   "execution_count": 10,
   "id": "6b22da51",
   "metadata": {},
   "outputs": [
    {
     "name": "stdout",
     "output_type": "stream",
     "text": [
      "No need umbrella\n"
     ]
    }
   ],
   "source": [
    "#check if it is raining\n",
    "\n",
    "is_raining = False\n",
    "\n",
    "#check forecast\n",
    "\n",
    "isGoingToRain = False\n",
    "\n",
    "#check if raining\n",
    "if is_raining:\n",
    "    print(\"Let's bring an umbrella\")\n",
    "    \n",
    "#check alternative condition\n",
    "\n",
    "elif isGoingToRain:\n",
    "    print(\"Let's bring an umbrella just in case\")\n",
    "\n",
    "else:\n",
    "    print(\"No need umbrella\")"
   ]
  },
  {
   "cell_type": "code",
   "execution_count": 11,
   "id": "54caac2e",
   "metadata": {},
   "outputs": [
    {
     "name": "stdout",
     "output_type": "stream",
     "text": [
      "Is it raining? True or False\n",
      "Is it going to raing True or False\n",
      "No need umbrella\n"
     ]
    }
   ],
   "source": []
  },
  {
   "cell_type": "code",
   "execution_count": 12,
   "id": "d9928e83",
   "metadata": {},
   "outputs": [
    {
     "data": {
      "text/plain": [
       "True"
      ]
     },
     "execution_count": 12,
     "metadata": {},
     "output_type": "execute_result"
    }
   ],
   "source": [
    "# use == to compare two values whether they are equal\n",
    "\n",
    "\"yes\" == \"yes\""
   ]
  },
  {
   "cell_type": "code",
   "execution_count": 13,
   "id": "204009c5",
   "metadata": {},
   "outputs": [
    {
     "data": {
      "text/plain": [
       "True"
      ]
     },
     "execution_count": 13,
     "metadata": {},
     "output_type": "execute_result"
    }
   ],
   "source": [
    "# use != to compare two values whether they are not equal\n",
    "\n",
    "\"yes\" != \"no\""
   ]
  },
  {
   "cell_type": "code",
   "execution_count": 14,
   "id": "1b3fad2d",
   "metadata": {},
   "outputs": [
    {
     "data": {
      "text/plain": [
       "True"
      ]
     },
     "execution_count": 14,
     "metadata": {},
     "output_type": "execute_result"
    }
   ],
   "source": [
    "# > more than \n",
    "2 > 1"
   ]
  },
  {
   "cell_type": "code",
   "execution_count": 16,
   "id": "eb2df4d1",
   "metadata": {},
   "outputs": [
    {
     "data": {
      "text/plain": [
       "True"
      ]
     },
     "execution_count": 16,
     "metadata": {},
     "output_type": "execute_result"
    }
   ],
   "source": [
    "# >= more than OR equals to\n",
    "\n",
    "2>=2"
   ]
  },
  {
   "cell_type": "code",
   "execution_count": 18,
   "id": "d37e4e43",
   "metadata": {},
   "outputs": [
    {
     "data": {
      "text/plain": [
       "True"
      ]
     },
     "execution_count": 18,
     "metadata": {},
     "output_type": "execute_result"
    }
   ],
   "source": [
    "# < less than\n",
    "# <= less than or equals to \n",
    "\n",
    "2<1\n",
    "1<=1"
   ]
  },
  {
   "cell_type": "code",
   "execution_count": 23,
   "id": "726a8739",
   "metadata": {},
   "outputs": [
    {
     "name": "stdout",
     "output_type": "stream",
     "text": [
      "Is it raining? Yes or No YES\n",
      "Is it going to raing Yes or No no\n",
      "Let's bring an umbrella\n"
     ]
    }
   ],
   "source": [
    "is_raining = input(\"Is it raining? Yes or No \")\n",
    "isGoingToRain = input(\"Is it going to raing Yes or No \") \n",
    "\n",
    "\n",
    "#check if raining\n",
    "if is_raining == \"Yes\" or is_raining == \"yes\" or \"YES\":\n",
    "    print(\"Let's bring an umbrella\")\n",
    "    \n",
    "#check alternative condition\n",
    "\n",
    "elif isGoingToRain == \"Yes\" or isGoingToRain==\"yes\" or \"YES\":\n",
    "    print(\"Let's bring an umbrella just in case\")\n",
    "\n",
    "# this will run if the above 2 don't run\n",
    "# default code to run if nothing is true\n",
    "else:\n",
    "    print(\"No need to bring umbrella\")"
   ]
  },
  {
   "cell_type": "code",
   "execution_count": 24,
   "id": "f0a36d56",
   "metadata": {},
   "outputs": [
    {
     "data": {
      "text/plain": [
       "False"
      ]
     },
     "execution_count": 24,
     "metadata": {},
     "output_type": "execute_result"
    }
   ],
   "source": [
    "# or gives True when either statement is True\n",
    "True or True \n",
    "True or False\n",
    "False or True\n",
    "False or False"
   ]
  },
  {
   "cell_type": "code",
   "execution_count": 25,
   "id": "5748f1a3",
   "metadata": {},
   "outputs": [
    {
     "data": {
      "text/plain": [
       "True"
      ]
     },
     "execution_count": 25,
     "metadata": {},
     "output_type": "execute_result"
    }
   ],
   "source": [
    "# and gives True when all statements are True\n",
    "True and True"
   ]
  },
  {
   "cell_type": "code",
   "execution_count": 26,
   "id": "b4cc0952",
   "metadata": {},
   "outputs": [
    {
     "name": "stdout",
     "output_type": "stream",
     "text": [
      "Are you over 18?yes\n",
      "Are you sober?no\n",
      "Take a grab\n"
     ]
    }
   ],
   "source": [
    "isOver18 = input(\"Are you over 18?\")\n",
    "isSober = input(\"Are you sober?\")\n",
    "\n",
    "if isOver18 == \"yes\" and isSober == \"yes\":\n",
    "   print(\"OK you can drive\")\n",
    "else:\n",
    "    print(\"Take a grab\")"
   ]
  },
  {
   "cell_type": "code",
   "execution_count": null,
   "id": "d01b3be6",
   "metadata": {},
   "outputs": [],
   "source": []
  }
 ],
 "metadata": {
  "kernelspec": {
   "display_name": "Python 3 (ipykernel)",
   "language": "python",
   "name": "python3"
  },
  "language_info": {
   "codemirror_mode": {
    "name": "ipython",
    "version": 3
   },
   "file_extension": ".py",
   "mimetype": "text/x-python",
   "name": "python",
   "nbconvert_exporter": "python",
   "pygments_lexer": "ipython3",
   "version": "3.9.7"
  }
 },
 "nbformat": 4,
 "nbformat_minor": 5
}
