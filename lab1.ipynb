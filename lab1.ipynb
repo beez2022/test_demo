{
 "cells": [
  {
   "cell_type": "code",
   "execution_count": 7,
   "id": "b28f9f6a",
   "metadata": {},
   "outputs": [
    {
     "name": "stdout",
     "output_type": "stream",
     "text": [
      "Hello world\n",
      "Hello wold\n"
     ]
    }
   ],
   "source": [
    "print(\"Hello world\")\n",
    "print('Hello world')"
   ]
  },
  {
   "cell_type": "code",
   "execution_count": 9,
   "id": "88bbe148",
   "metadata": {},
   "outputs": [
    {
     "name": "stdout",
     "output_type": "stream",
     "text": [
      "Bee\n"
     ]
    }
   ],
   "source": [
    "x = 5\n",
    "y=\"Bee\"\n",
    "print(y)"
   ]
  },
  {
   "cell_type": "code",
   "execution_count": 12,
   "id": "f3f19c43",
   "metadata": {},
   "outputs": [
    {
     "name": "stdout",
     "output_type": "stream",
     "text": [
      "Seah Bee Kheng\n"
     ]
    }
   ],
   "source": [
    "fullname = \"Seah Bee Kheng\"\n",
    "print(fullname)"
   ]
  },
  {
   "cell_type": "code",
   "execution_count": 14,
   "id": "3e5917a3",
   "metadata": {},
   "outputs": [
    {
     "name": "stdout",
     "output_type": "stream",
     "text": [
      "Bee Kheng\n"
     ]
    }
   ],
   "source": [
    "first_name, last_name = \"Bee Kheng\" , \"Seah\"\n",
    "print(first_name)"
   ]
  },
  {
   "cell_type": "code",
   "execution_count": 15,
   "id": "86e3fd8c",
   "metadata": {},
   "outputs": [
    {
     "name": "stdout",
     "output_type": "stream",
     "text": [
      "Seah Bee Kheng\n"
     ]
    }
   ],
   "source": [
    "FULLNAME = \"Seah Bee Kheng\"\n",
    "print(FULLNAME)"
   ]
  },
  {
   "cell_type": "code",
   "execution_count": 12,
   "id": "5c45a213",
   "metadata": {},
   "outputs": [
    {
     "name": "stdout",
     "output_type": "stream",
     "text": [
      "             This is a test\n",
      "                       This is a test                        \n"
     ]
    }
   ],
   "source": [
    "str1=\"This is\"\n",
    "str2=\"a test\"\n",
    "print(\"%20s %s\" %(str1, str2))\n",
    "print(\"{0:>30s} {1:<30s}\".format(str1,str2))"
   ]
  },
  {
   "cell_type": "markdown",
   "id": "9eea2f58",
   "metadata": {},
   "source": [
    "# Lab 1 - Print function\n",
    "\n",
    "**MORE PRINT SYNTAX**\n",
    "\n",
    "*Using %*\n",
    "prints str1 and str2 with str2 occupying 20 spaces right justified\n",
    "print(\"%s %20s\"%str1, str2)\n",
    "\n",
    "*Using format > right justified < left justified*\n",
    "print(\"{0:>30s} {1:<30s}\".format(str1,str2))\n",
    "\n",
    "> Block quote\n",
    "> This is a block quote\n",
    "> can "
   ]
  }
 ],
 "metadata": {
  "kernelspec": {
   "display_name": "Python 3 (ipykernel)",
   "language": "python",
   "name": "python3"
  },
  "language_info": {
   "codemirror_mode": {
    "name": "ipython",
    "version": 3
   },
   "file_extension": ".py",
   "mimetype": "text/x-python",
   "name": "python",
   "nbconvert_exporter": "python",
   "pygments_lexer": "ipython3",
   "version": "3.9.7"
  }
 },
 "nbformat": 4,
 "nbformat_minor": 5
}
